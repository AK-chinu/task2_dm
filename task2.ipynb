{
 "cells": [
  {
   "cell_type": "markdown",
   "id": "e921f201-5a9c-4ccb-9bae-1f7758f04853",
   "metadata": {},
   "source": [
    "## Q1. You are writing code for a company. The requirement of the company is that you create a python function that will check whether the password entered by the user is correct or not. The function should take the password as input and return the string “Valid Password” if the entered password follows the below-given password guidelines else it should return “Invalid Password”.\n",
    "Note: 1. The Password should contain at least two uppercase letters and at least two lowercase letters.\n",
    "\n",
    "2. The Password should contain at least a number and three special characters.\n",
    "\n",
    "3. The length of the password should be 10 characters long."
   ]
  },
  {
   "cell_type": "code",
   "execution_count": 21,
   "id": "c4c325d0-2350-454f-a22c-123b47006e78",
   "metadata": {},
   "outputs": [],
   "source": [
    "def pas():\n",
    "    string=input(\"Your password\")\n",
    "    return string"
   ]
  },
  {
   "cell_type": "code",
   "execution_count": 22,
   "id": "7c0de9e1-ec3e-469e-8b8b-7616e2ecb5e3",
   "metadata": {},
   "outputs": [],
   "source": [
    "def check (str1):\n",
    "    u,l,n,s=0,0,0,0\n",
    "    if (len(str1) >= 10):\n",
    "        \n",
    "        for i in str1:\n",
    "            \n",
    " \n",
    "            # counting lowercase alphabets\n",
    "            if (i.islower()):\n",
    "                l+=1           \n",
    "            # counting uppercase alphabets\n",
    "            if (i.isupper()):\n",
    "                u+=1           \n",
    "            # counting digits\n",
    "            if (i.isdigit()):\n",
    "                d+=1           \n",
    "            # counting the mentioned special characters\n",
    "            if(i=='@'or i=='$' or i=='_'):\n",
    "                p+=1   \n",
    "        \n",
    "    return u,l,n,s"
   ]
  },
  {
   "cell_type": "code",
   "execution_count": 25,
   "id": "1429789e-24cd-45c7-ac5d-56c660fda2b6",
   "metadata": {},
   "outputs": [
    {
     "name": "stdout",
     "output_type": "stream",
     "text": [
      "Enter your password:\n"
     ]
    },
    {
     "name": "stdin",
     "output_type": "stream",
     "text": [
      "Your password dtyyfu55g\n"
     ]
    },
    {
     "name": "stdout",
     "output_type": "stream",
     "text": [
      "Invalid Password\n"
     ]
    }
   ],
   "source": [
    "print(\"Enter your password:\")\n",
    "str1=pas()\n",
    "check(str1)\n",
    "if (l>=2 and u>=2 and p>=3 and d>=1 and l+p+u+d==len(str1)):\n",
    "    print(\"Valid Password\")\n",
    "else:\n",
    "    print(\"Invalid Password\")"
   ]
  },
  {
   "cell_type": "code",
   "execution_count": 28,
   "id": "04dcb341-0a49-47f8-ba0f-c1a357d07ed3",
   "metadata": {},
   "outputs": [
    {
     "data": {
      "text/plain": [
       "'Q2. Solve the below-given questions using at least one of the following:\\n1. Lambda functioJ\\n2. Filter functioJ\\n3. Zap functioJ\\n4. List ComprehensioI\\nB Check if the string starts with a particular letterY\\nB Check if the string is numericY\\nB Sort a list of tuples having fruit names and their quantity. [(\"mango\",99),(\"orange\",80), (\"grapes\", 1000)-\\nB Find the squares of numbers from 1 to 10Y\\nB Find the cube root of numbers from 1 to 10Y\\nB Check if a given number is evenY\\nB Filter odd numbers from the given list.\\n[1,2,3,4,5,6,7,8,9,10-\\nB Sort a list of integers into positive and negative integers lists.\\n[1,2,3,4,5,6,-1,-2,-3,-4,-5,0]'"
      ]
     },
     "execution_count": 28,
     "metadata": {},
     "output_type": "execute_result"
    }
   ],
   "source": [
    "\"\"\"Q2. Solve the below-given questions using at least one of the following:\n",
    "1. Lambda functioJ\n",
    "2. Filter functioJ\n",
    "3. Zap functioJ\n",
    "4. List ComprehensioI\n",
    "B Check if the string starts with a particular letterY\n",
    "B Check if the string is numericY\n",
    "B Sort a list of tuples having fruit names and their quantity. [(\"mango\",99),(\"orange\",80), (\"grapes\", 1000)-\n",
    "B Find the squares of numbers from 1 to 10Y\n",
    "B Find the cube root of numbers from 1 to 10Y\n",
    "B Check if a given number is evenY\n",
    "B Filter odd numbers from the given list.\n",
    "[1,2,3,4,5,6,7,8,9,10-\n",
    "B Sort a list of integers into positive and negative integers lists.\n",
    "[1,2,3,4,5,6,-1,-2,-3,-4,-5,0]\"\"\""
   ]
  },
  {
   "cell_type": "code",
   "execution_count": 1,
   "id": "7c7ad562-d6cf-4562-acfc-49eb17b68575",
   "metadata": {},
   "outputs": [
    {
     "name": "stdout",
     "output_type": "stream",
     "text": [
      "True\n"
     ]
    }
   ],
   "source": [
    "starts_with = lambda s, letter: s.startswith(letter)\n",
    "result = starts_with(\"Hello World\", \"H\")\n",
    "print(result) # True\n"
   ]
  },
  {
   "cell_type": "code",
   "execution_count": 2,
   "id": "586b660c-b62d-4d7e-8dfa-2bb692e0c128",
   "metadata": {},
   "outputs": [
    {
     "name": "stdout",
     "output_type": "stream",
     "text": [
      "[True, False, False]\n"
     ]
    }
   ],
   "source": [
    "strings = [\"Hello World\", \"Python\", \"Lambda\"]\n",
    "letter = \"H\"\n",
    "result = [s.startswith(letter) for s in strings]\n",
    "print(result) # [True, False, False]\n"
   ]
  },
  {
   "cell_type": "code",
   "execution_count": 3,
   "id": "09d2af70-f586-4795-b198-6dc2ece6b60e",
   "metadata": {},
   "outputs": [
    {
     "name": "stdout",
     "output_type": "stream",
     "text": [
      "True\n"
     ]
    }
   ],
   "source": [
    "is_numeric = lambda s: s.isnumeric()\n",
    "result = is_numeric(\"1234\")\n",
    "print(result) # True\n"
   ]
  },
  {
   "cell_type": "code",
   "execution_count": 4,
   "id": "4ba656a2-3cde-41d3-8550-7b0854d11bbe",
   "metadata": {},
   "outputs": [
    {
     "name": "stdout",
     "output_type": "stream",
     "text": [
      "[True, False, False]\n"
     ]
    }
   ],
   "source": [
    "strings = [\"1234\", \"Python\", \"3.14\"]\n",
    "result = [s.isnumeric() for s in strings]\n",
    "print(result) # [True, False, False]\n"
   ]
  },
  {
   "cell_type": "code",
   "execution_count": 5,
   "id": "1cf51c33-3b5b-4334-baa4-d9762b269b68",
   "metadata": {},
   "outputs": [
    {
     "name": "stdout",
     "output_type": "stream",
     "text": [
      "[('orange', 80), ('mango', 99), ('grapes', 1000)]\n"
     ]
    }
   ],
   "source": [
    "fruits = [(\"mango\", 99), (\"orange\", 80), (\"grapes\", 1000)]\n",
    "sorted_fruits = sorted(fruits, key=lambda x: x[1])\n",
    "print(sorted_fruits) # [('orange', 80), ('mango', 99), ('grapes', 1000)]\n"
   ]
  },
  {
   "cell_type": "code",
   "execution_count": 6,
   "id": "5157fa12-88d4-4672-addc-697e5115f680",
   "metadata": {},
   "outputs": [
    {
     "name": "stdout",
     "output_type": "stream",
     "text": [
      "[('orange', 80), ('mango', 99), ('grapes', 1000)]\n"
     ]
    }
   ],
   "source": [
    "fruits = [(\"mango\", 99), (\"orange\", 80), (\"grapes\", 1000)]\n",
    "sorted_fruits = [f for f in sorted(fruits, key=lambda x: x[1])]\n",
    "print(sorted_fruits) # [('orange', 80), ('mango', 99), ('grapes', 1000)]\n"
   ]
  },
  {
   "cell_type": "code",
   "execution_count": 7,
   "id": "d078dc56-2f4a-4796-9509-6cc686c0605d",
   "metadata": {},
   "outputs": [
    {
     "name": "stdout",
     "output_type": "stream",
     "text": [
      "[1, 4, 9, 16, 25, 36, 49, 64, 81, 100]\n"
     ]
    }
   ],
   "source": [
    "squares = list(map(lambda x: x**2, range(1, 11)))\n",
    "print(squares) # [1, 4, 9, 16, 25, 36, 49, 64, 81, 100]\n"
   ]
  },
  {
   "cell_type": "code",
   "execution_count": null,
   "id": "476dc04c-2d8f-4629-bd31-7aec332c3339",
   "metadata": {},
   "outputs": [],
   "source": []
  }
 ],
 "metadata": {
  "kernelspec": {
   "display_name": "Python 3 (ipykernel)",
   "language": "python",
   "name": "python3"
  },
  "language_info": {
   "codemirror_mode": {
    "name": "ipython",
    "version": 3
   },
   "file_extension": ".py",
   "mimetype": "text/x-python",
   "name": "python",
   "nbconvert_exporter": "python",
   "pygments_lexer": "ipython3",
   "version": "3.10.8"
  }
 },
 "nbformat": 4,
 "nbformat_minor": 5
}
